{
 "cells": [
  {
   "cell_type": "code",
   "execution_count": 1,
   "metadata": {
    "tags": []
   },
   "outputs": [
    {
     "name": "stderr",
     "output_type": "stream",
     "text": [
      "/Users/I069899/anaconda3/envs/py310/lib/python3.11/site-packages/langchain_core/_api/deprecation.py:117: LangChainDeprecationWarning: The function `__call__` was deprecated in LangChain 0.1.0 and will be removed in 0.2.0. Use invoke instead.\n",
      "  warn_deprecated(\n"
     ]
    },
    {
     "name": "stdout",
     "output_type": "stream",
     "text": [
      "Answer:  I'm sorry, I don't have enough information to understand your request. Can you please provide more context or clarify your question?\n"
     ]
    }
   ],
   "source": [
    "import os\n",
    "from dotenv import load_dotenv\n",
    "from langchain.text_splitter import CharacterTextSplitter\n",
    "from langchain_community.vectorstores import FAISS\n",
    "from langchain_community.document_loaders import PyPDFLoader\n",
    "from langchain_openai import AzureOpenAIEmbeddings, AzureChatOpenAI\n",
    "from langchain.chains import RetrievalQA\n",
    "\n",
    "# Define constants\n",
    "MAX_TOKEN = 8000\n",
    "SPLIT_DOC_SIZE = 1000\n",
    "CHUNK_OVERLAP = 50\n",
    "PDF_FILE_NAME = 'data/IRM_Help.pdf'\n",
    "WORK_DIR = '/Users/I069899/Documents/study/AI/ai_anna/'\n",
    "DB_PATH = \"data/vectordb/\"\n",
    "\n",
    "# Load environment variables\n",
    "os.environ[\"OPENAI_API_TYPE\"] = \"azure\"\n",
    "os.environ[\"OPENAI_API_VERSION\"] = \"2023-05-15\"\n",
    "os.environ[\"OPENAI_API_BASE\"] = \"https://pvg-azure-openai-uk-south.openai.azure.com/openai\"\n",
    "ENV_PATH = os.getenv(\"HOME\") + \"/Documents/src/openai/.env\"\n",
    "load_dotenv(dotenv_path=ENV_PATH, verbose=True)\n",
    "\n",
    "def load_pdf_and_split_text():\n",
    "    \"\"\"Load the PDF file and split the text into manageable chunks.\"\"\"\n",
    "    loader = PyPDFLoader(os.path.join(WORK_DIR, PDF_FILE_NAME))\n",
    "    pages = loader.load()\n",
    "    text_splitter = CharacterTextSplitter(separator =\"\\n\",chunk_size=SPLIT_DOC_SIZE,chunk_overlap=CHUNK_OVERLAP)\n",
    "    documents = text_splitter.split_documents(pages)\n",
    "    return documents\n",
    "\n",
    "def initialize_data():\n",
    "    \"\"\"Initialize the system by creating the document database and setting up the QA bot.\"\"\"\n",
    "    documents = load_pdf_and_split_text()\n",
    "    vector_db = FAISS.from_documents(documents, AzureOpenAIEmbeddings())\n",
    "    vector_db.save_local(DB_PATH)\n",
    "\n",
    "    loaded_db = FAISS.load_local(DB_PATH, AzureOpenAIEmbeddings())\n",
    "    language_model = AzureChatOpenAI(model_name=\"gpt-35-turbo\", temperature=0.5)\n",
    "    \n",
    "    global AMAZON_REVIEW_BOT    \n",
    "    AMAZON_REVIEW_BOT = RetrievalQA.from_chain_type(language_model,\n",
    "                  retriever=loaded_db.as_retriever(search_type=\"similarity_score_threshold\",\n",
    "                    search_kwargs={\"score_threshold\": 0.5}))\n",
    "                \n",
    "    AMAZON_REVIEW_BOT.return_source_documents = True\n",
    "    return AMAZON_REVIEW_BOT\n",
    "\n",
    "def search_and_print_result(query):\n",
    "    \"\"\"Search for the query and print the result.\"\"\"\n",
    "    search_result = initialize_data()\n",
    "\n",
    "    ###\n",
    "#     answer, docs = search_result[\"result\"], res[\"source_documents\"]\n",
    "# for document in docs:\n",
    "# print(\"\\n> [source file path]: \" + document.metadata[\"source\"] )\n",
    "# print(\"> [cosine similarity]:\" + str(1.0-document.metadata[\"distances\"]) ) # Add This and it will print 1-distance_value\n",
    "# print(\">[text slice]:\" + document.page_content)\n",
    "    ###\n",
    "\n",
    "    search_result = search_result({\"query\": query})\n",
    "    answer = search_result[\"result\"]\n",
    "    docs = search_result[\"source_documents\"]\n",
    "    if docs:\n",
    "        #print(\"Source document: \", docs)\n",
    "        # for document in docs:\n",
    "        #     print(\"*********** source is : \" + document.metadata[\"source\"] )\n",
    "        #     #print(\"********* page is : \" + document.metadata[\"page\"] )\n",
    "        #     #print(\"********* page is : \" + document.metadata )\n",
    "        #     #print(\"> [cosine similarity]:\" + str(1.0-document.metadata[\"distances\"]) ) \n",
    "        #     print(\">[text slice]:\" + document.page_content)\n",
    "        print(\"***** Answer is : \", answer)\n",
    "    else:\n",
    "        print(\"No answer found.\")\n",
    "        \n",
    "def check_result(result):\n",
    "    if \"I'm sorry, I don't have enough information\" in result:\n",
    "        return \"no_result_found\"\n",
    "    else:\n",
    "        return result\n",
    "\n",
    "result = \"I'm sorry, I don't have enough information to understand your request.\"\n",
    "print(check_result(result))  # prints: no_result_found\n",
    "\n",
    "search_and_print_result(\"Ying qinmin\")"
   ]
  },
  {
   "cell_type": "code",
   "execution_count": null,
   "metadata": {},
   "outputs": [],
   "source": []
  }
 ],
 "metadata": {
  "kernelspec": {
   "display_name": "Python 3 (ipykernel)",
   "language": "python",
   "name": "python3"
  },
  "language_info": {
   "codemirror_mode": {
    "name": "ipython",
    "version": 3
   },
   "file_extension": ".py",
   "mimetype": "text/x-python",
   "name": "python",
   "nbconvert_exporter": "python",
   "pygments_lexer": "ipython3",
   "version": "3.11.8"
  }
 },
 "nbformat": 4,
 "nbformat_minor": 4
}
