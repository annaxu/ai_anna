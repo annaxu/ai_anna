{
 "cells": [
  {
   "cell_type": "code",
   "execution_count": 2,
   "metadata": {
    "tags": []
   },
   "outputs": [
    {
     "name": "stdout",
     "output_type": "stream",
     "text": [
      "**** PDF load complete\n"
     ]
    }
   ],
   "source": [
    "from langchain.text_splitter import CharacterTextSplitter\n",
    "from langchain.document_loaders import UnstructuredPDFLoader\n",
    "import os\n",
    "\n",
    "max_token = 8000\n",
    "split_doc_size = 1000\n",
    "chunk_overlap = 50\n",
    "pdf_file_name = 'data/IRM_Help.pdf'\n",
    "work_dir = '/Users/I069899/Documents/study/AI/ai_anna/'\n",
    "\n",
    "def load_pdf_splitter():\n",
    "  loader = UnstructuredPDFLoader(os.path.join(work_dir, pdf_file_name))\n",
    "  #loader = UnstructuredPDFLoader(\"/Users/I069899/Documents/study/AI/ai_anna/data/IRM_Help.pdf\")\n",
    "  docs = loader.load()\n",
    "  text_splitter = CharacterTextSplitter(chunk_size=split_doc_size, chunk_overlap=chunk_overlap)\n",
    "  split_docs = text_splitter.split_documents(docs)\n",
    "  return split_docs\n",
    "  \n",
    "split_docs = load_pdf_splitter()\n",
    "# Print success message\n",
    "print(\"**** PDF load complete\")"
   ]
  },
  {
   "cell_type": "code",
   "execution_count": null,
   "metadata": {},
   "outputs": [],
   "source": []
  }
 ],
 "metadata": {
  "kernelspec": {
   "display_name": "Python 3 (ipykernel)",
   "language": "python",
   "name": "python3"
  },
  "language_info": {
   "codemirror_mode": {
    "name": "ipython",
    "version": 3
   },
   "file_extension": ".py",
   "mimetype": "text/x-python",
   "name": "python",
   "nbconvert_exporter": "python",
   "pygments_lexer": "ipython3",
   "version": "3.11.8"
  }
 },
 "nbformat": 4,
 "nbformat_minor": 4
}
