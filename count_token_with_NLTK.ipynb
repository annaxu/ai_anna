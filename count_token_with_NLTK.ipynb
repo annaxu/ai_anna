{
 "cells": [
  {
   "cell_type": "code",
   "execution_count": 1,
   "id": "32463a7b-21e2-4c58-a236-85d7bcd2ee16",
   "metadata": {},
   "outputs": [
    {
     "name": "stderr",
     "output_type": "stream",
     "text": [
      "[nltk_data] Error loading punkt: <urlopen error [Errno 61] Connection\n",
      "[nltk_data]     refused>\n"
     ]
    },
    {
     "name": "stdout",
     "output_type": "stream",
     "text": [
      "********* begin print first_paragraph ************************** \n",
      "********* first_paragraph is  In today's rapidly changing world, knowledge is constantly being refreshed, and it's essential to adapt and evolve in order to avoid becoming obsolete. The impact of macro-economic factors on our company and industry necessitates a proactive approach skill development and strategic influence to ensure that our team remains at the forefront of our organization. By leveraging our collective skills and expertise, we have the opportunity to consolidate efforts across multiple teams and achieve larger, more impactful goals. While individuals may excel in their own right, it's through collaborative efforts that we can truly propel our path forward. \n",
      "********* end print first_paragraph ************************** \n",
      "***** the token is: ******* ['In', 'today', \"'s\", 'rapidly', 'changing', 'world', ',', 'knowledge', 'is', 'constantly', 'being', 'refreshed', ',', 'and', 'it', \"'s\", 'essential', 'to', 'adapt', 'and', 'evolve', 'in', 'order', 'to', 'avoid', 'becoming', 'obsolete', '.', 'The', 'impact', 'of', 'macro-economic', 'factors', 'on', 'our', 'company', 'and', 'industry', 'necessitates', 'a', 'proactive', 'approach', 'skill', 'development', 'and', 'strategic', 'influence', 'to', 'ensure', 'that', 'our', 'team', 'remains', 'at', 'the', 'forefront', 'of', 'our', 'organization', '.', 'By', 'leveraging', 'our', 'collective', 'skills', 'and', 'expertise', ',', 'we', 'have', 'the', 'opportunity', 'to', 'consolidate', 'efforts', 'across', 'multiple', 'teams', 'and', 'achieve', 'larger', ',', 'more', 'impactful', 'goals', '.', 'While', 'individuals', 'may', 'excel', 'in', 'their', 'own', 'right', ',', 'it', \"'s\", 'through', 'collaborative', 'efforts', 'that', 'we', 'can', 'truly', 'propel', 'our', 'path', 'forward', '.']\n",
      "109\n"
     ]
    }
   ],
   "source": [
    "import os\n",
    "import requests\n",
    "import nltk\n",
    "from bs4 import BeautifulSoup\n",
    "from dotenv import load_dotenv\n",
    "from nltk.tokenize import word_tokenize\n",
    "\n",
    "# Download the NLTK punkt tokenizer for English\n",
    "nltk.download('punkt')\n",
    "\n",
    "#load_dotenv()\n",
    "env_path = os.getenv(\"HOME\") + \"/Documents/src/openai/.env\"\n",
    "load_dotenv(dotenv_path=env_path, verbose=True)\n",
    "\n",
    "def count_tokens_in_first_paragraph(url, headers, cookies):\n",
    "    # Fetch the page content\n",
    "    response = requests.get(url, headers=headers, cookies=cookies)\n",
    "    response.raise_for_status()  # Raise an exception in case of failure\n",
    "\n",
    "    # Parse the HTML\n",
    "    soup = BeautifulSoup(response.text, 'html.parser')\n",
    "\n",
    "    # Extract the first paragraph\n",
    "    first_paragraph = soup.find('p').get_text()\n",
    "\n",
    "    # Print the first paragraph\n",
    "    print(\"********* begin print first_paragraph ************************** \")\n",
    "    print(\"********* first_paragraph is \", first_paragraph)\n",
    "    print(\"********* end print first_paragraph ************************** \")\n",
    "\n",
    "    # Tokenize the text and count the tokens\n",
    "    tokens = word_tokenize(first_paragraph)\n",
    "    print(\"***** the token is: *******\" , tokens)\n",
    "    return len(tokens)\n",
    "\n",
    "headers = {\n",
    "    \"Accept-Language\": \"en-US,en;q=0.9\",\n",
    "    \"Accept\": \"text/html,application/xhtml+xml,application/xml;q=0.9,image/avif,image/webp,image/apng,/;q=0.8,application/signed-exchange;v=b3;q=0.9\",\n",
    "    \"Cache-Control\": \"max-age=0\",\n",
    "    \"Connection\": \"keep-alive\",\n",
    "    \"Sec-Fetch-Dest\": \"document\",\n",
    "    \"Sec-Fetch-Mode\": \"navigate\",\n",
    "    \"Sec-Fetch-Site\": \"none\",\n",
    "    \"Sec-Fetch-User\": \"?1\",\n",
    "    \"Upgrade-Insecure-Requests\": \"1\",\n",
    "}\n",
    "\n",
    "\n",
    "cookies = {\n",
    "    \"JSESSIONID\": os.getenv(\"JSESSIONID\"),\n",
    "}\n",
    "url = 'https://wiki.one.int.sap/wiki/display/eurekaplus/Portfolio+Management'\n",
    "print(count_tokens_in_first_paragraph(url, headers, cookies))"
   ]
  },
  {
   "cell_type": "code",
   "execution_count": null,
   "id": "5b5fda95-8936-44bb-8b90-6c42eca5176d",
   "metadata": {},
   "outputs": [],
   "source": []
  }
 ],
 "metadata": {
  "kernelspec": {
   "display_name": "Python 3 (ipykernel)",
   "language": "python",
   "name": "python3"
  },
  "language_info": {
   "codemirror_mode": {
    "name": "ipython",
    "version": 3
   },
   "file_extension": ".py",
   "mimetype": "text/x-python",
   "name": "python",
   "nbconvert_exporter": "python",
   "pygments_lexer": "ipython3",
   "version": "3.11.7"
  }
 },
 "nbformat": 4,
 "nbformat_minor": 5
}
