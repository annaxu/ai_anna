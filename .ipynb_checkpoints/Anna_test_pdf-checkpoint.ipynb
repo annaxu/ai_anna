{
 "cells": [
  {
   "cell_type": "code",
   "execution_count": 6,
   "metadata": {
    "tags": []
   },
   "outputs": [
    {
     "ename": "ImportError",
     "evalue": "cannot import name 'open_filename' from 'pdfminer.utils' (/Users/I069899/anaconda3/envs/py310/lib/python3.11/site-packages/pdfminer/utils.py)",
     "output_type": "error",
     "traceback": [
      "\u001b[0;31m---------------------------------------------------------------------------\u001b[0m",
      "\u001b[0;31mImportError\u001b[0m                               Traceback (most recent call last)",
      "Cell \u001b[0;32mIn[6], line 63\u001b[0m\n\u001b[1;32m     59\u001b[0m     \u001b[38;5;28;01mreturn\u001b[39;00m docs\n\u001b[1;32m     61\u001b[0m \u001b[38;5;66;03m#try load_pdf_splitter\u001b[39;00m\n\u001b[1;32m     62\u001b[0m \u001b[38;5;66;03m#split_docs = load_pdf_splitter(pdf_file, max_token, chunk_overlap)\u001b[39;00m\n\u001b[0;32m---> 63\u001b[0m split_docs \u001b[38;5;241m=\u001b[39m load_pdf_splitter(\u001b[38;5;124m'\u001b[39m\u001b[38;5;124m/Users/I069899/Documents/study/AI/ai_anna/data/IRM_Help.pdf\u001b[39m\u001b[38;5;124m'\u001b[39m, max_token, chunk_overlap)\n\u001b[1;32m     64\u001b[0m \u001b[38;5;28mprint\u001b[39m(\u001b[38;5;124m\"\u001b[39m\u001b[38;5;124m pdf data load by UnstructuredPDFLoader is \u001b[39m\u001b[38;5;124m\"\u001b[39m, split_docs)\n\u001b[1;32m     65\u001b[0m \u001b[38;5;66;03m# docs = load_pdf_by_pdfloader(pdf_file)\u001b[39;00m\n\u001b[1;32m     66\u001b[0m \u001b[38;5;66;03m# print(\" pdf data load by PDFLoader is \", docs)\u001b[39;00m\n",
      "Cell \u001b[0;32mIn[6], line 47\u001b[0m, in \u001b[0;36mload_pdf_splitter\u001b[0;34m(pdf_file, chunk_size, chunk_overlap)\u001b[0m\n\u001b[1;32m     46\u001b[0m \u001b[38;5;28;01mdef\u001b[39;00m \u001b[38;5;21mload_pdf_splitter\u001b[39m(pdf_file, chunk_size\u001b[38;5;241m=\u001b[39mmax_token, chunk_overlap\u001b[38;5;241m=\u001b[39mchunk_overlap):\n\u001b[0;32m---> 47\u001b[0m     docs \u001b[38;5;241m=\u001b[39m load_pdf_file(pdf_file)\n\u001b[1;32m     48\u001b[0m     text_splitter \u001b[38;5;241m=\u001b[39m CharacterTextSplitter(chunk_size\u001b[38;5;241m=\u001b[39mchunk_size, chunk_overlap\u001b[38;5;241m=\u001b[39mchunk_overlap)\n\u001b[1;32m     49\u001b[0m     split_docs \u001b[38;5;241m=\u001b[39m text_splitter\u001b[38;5;241m.\u001b[39msplit_documents(docs)\n",
      "Cell \u001b[0;32mIn[6], line 57\u001b[0m, in \u001b[0;36mload_pdf_file\u001b[0;34m(pdf_file)\u001b[0m\n\u001b[1;32m     55\u001b[0m \u001b[38;5;28;01mdef\u001b[39;00m \u001b[38;5;21mload_pdf_file\u001b[39m(pdf_file):    \n\u001b[1;32m     56\u001b[0m     loader \u001b[38;5;241m=\u001b[39m UnstructuredPDFLoader(os\u001b[38;5;241m.\u001b[39mpath\u001b[38;5;241m.\u001b[39mjoin(work_dir, pdf_file))\n\u001b[0;32m---> 57\u001b[0m     docs \u001b[38;5;241m=\u001b[39m loader\u001b[38;5;241m.\u001b[39mload()\n\u001b[1;32m     58\u001b[0m     \u001b[38;5;28mprint\u001b[39m(\u001b[38;5;124m'\u001b[39m\u001b[38;5;124mpdf:\u001b[39m\u001b[38;5;130;01m\\n\u001b[39;00m\u001b[38;5;124m'\u001b[39m,docs[\u001b[38;5;241m0\u001b[39m]\u001b[38;5;241m.\u001b[39mpage_content[:split_doc_size])\n\u001b[1;32m     59\u001b[0m     \u001b[38;5;28;01mreturn\u001b[39;00m docs\n",
      "File \u001b[0;32m~/anaconda3/envs/py310/lib/python3.11/site-packages/langchain_community/document_loaders/unstructured.py:87\u001b[0m, in \u001b[0;36mUnstructuredBaseLoader.load\u001b[0;34m(self)\u001b[0m\n\u001b[1;32m     85\u001b[0m \u001b[38;5;28;01mdef\u001b[39;00m \u001b[38;5;21mload\u001b[39m(\u001b[38;5;28mself\u001b[39m) \u001b[38;5;241m-\u001b[39m\u001b[38;5;241m>\u001b[39m List[Document]:\n\u001b[1;32m     86\u001b[0m \u001b[38;5;250m    \u001b[39m\u001b[38;5;124;03m\"\"\"Load file.\"\"\"\u001b[39;00m\n\u001b[0;32m---> 87\u001b[0m     elements \u001b[38;5;241m=\u001b[39m \u001b[38;5;28mself\u001b[39m\u001b[38;5;241m.\u001b[39m_get_elements()\n\u001b[1;32m     88\u001b[0m     \u001b[38;5;28mself\u001b[39m\u001b[38;5;241m.\u001b[39m_post_process_elements(elements)\n\u001b[1;32m     89\u001b[0m     \u001b[38;5;28;01mif\u001b[39;00m \u001b[38;5;28mself\u001b[39m\u001b[38;5;241m.\u001b[39mmode \u001b[38;5;241m==\u001b[39m \u001b[38;5;124m\"\u001b[39m\u001b[38;5;124melements\u001b[39m\u001b[38;5;124m\"\u001b[39m:\n",
      "File \u001b[0;32m~/anaconda3/envs/py310/lib/python3.11/site-packages/langchain_community/document_loaders/pdf.py:57\u001b[0m, in \u001b[0;36mUnstructuredPDFLoader._get_elements\u001b[0;34m(self)\u001b[0m\n\u001b[1;32m     56\u001b[0m \u001b[38;5;28;01mdef\u001b[39;00m \u001b[38;5;21m_get_elements\u001b[39m(\u001b[38;5;28mself\u001b[39m) \u001b[38;5;241m-\u001b[39m\u001b[38;5;241m>\u001b[39m List:\n\u001b[0;32m---> 57\u001b[0m     \u001b[38;5;28;01mfrom\u001b[39;00m \u001b[38;5;21;01munstructured\u001b[39;00m\u001b[38;5;21;01m.\u001b[39;00m\u001b[38;5;21;01mpartition\u001b[39;00m\u001b[38;5;21;01m.\u001b[39;00m\u001b[38;5;21;01mpdf\u001b[39;00m \u001b[38;5;28;01mimport\u001b[39;00m partition_pdf\n\u001b[1;32m     59\u001b[0m     \u001b[38;5;28;01mreturn\u001b[39;00m partition_pdf(filename\u001b[38;5;241m=\u001b[39m\u001b[38;5;28mself\u001b[39m\u001b[38;5;241m.\u001b[39mfile_path, \u001b[38;5;241m*\u001b[39m\u001b[38;5;241m*\u001b[39m\u001b[38;5;28mself\u001b[39m\u001b[38;5;241m.\u001b[39munstructured_kwargs)\n",
      "File \u001b[0;32m~/anaconda3/envs/py310/lib/python3.11/site-packages/unstructured/partition/pdf.py:36\u001b[0m\n\u001b[1;32m     28\u001b[0m \u001b[38;5;28;01mfrom\u001b[39;00m \u001b[38;5;21;01mpdfminer\u001b[39;00m\u001b[38;5;21;01m.\u001b[39;00m\u001b[38;5;21;01mlayout\u001b[39;00m \u001b[38;5;28;01mimport\u001b[39;00m (\n\u001b[1;32m     29\u001b[0m     LTChar,\n\u001b[1;32m     30\u001b[0m     LTContainer,\n\u001b[0;32m   (...)\u001b[0m\n\u001b[1;32m     33\u001b[0m     LTTextBox,\n\u001b[1;32m     34\u001b[0m )\n\u001b[1;32m     35\u001b[0m \u001b[38;5;28;01mfrom\u001b[39;00m \u001b[38;5;21;01mpdfminer\u001b[39;00m\u001b[38;5;21;01m.\u001b[39;00m\u001b[38;5;21;01mpdftypes\u001b[39;00m \u001b[38;5;28;01mimport\u001b[39;00m PDFObjRef\n\u001b[0;32m---> 36\u001b[0m \u001b[38;5;28;01mfrom\u001b[39;00m \u001b[38;5;21;01mpdfminer\u001b[39;00m\u001b[38;5;21;01m.\u001b[39;00m\u001b[38;5;21;01mutils\u001b[39;00m \u001b[38;5;28;01mimport\u001b[39;00m open_filename\n\u001b[1;32m     37\u001b[0m \u001b[38;5;28;01mfrom\u001b[39;00m \u001b[38;5;21;01mPIL\u001b[39;00m \u001b[38;5;28;01mimport\u001b[39;00m Image \u001b[38;5;28;01mas\u001b[39;00m PILImage\n\u001b[1;32m     38\u001b[0m \u001b[38;5;28;01mfrom\u001b[39;00m \u001b[38;5;21;01mpillow_heif\u001b[39;00m \u001b[38;5;28;01mimport\u001b[39;00m register_heif_opener\n",
      "\u001b[0;31mImportError\u001b[0m: cannot import name 'open_filename' from 'pdfminer.utils' (/Users/I069899/anaconda3/envs/py310/lib/python3.11/site-packages/pdfminer/utils.py)"
     ]
    }
   ],
   "source": [
    "#from langchain.document_loaders.pdf_loader import PDFLoader\n",
    "#langchain_community.document_loaders.pdf.UnstructuredPDFLoader\n",
    "from langchain.embeddings import AzureOpenAIEmbeddings\n",
    "from langchain.vectorstores import FAISS\n",
    "import gradio as gr\n",
    "from sklearn.metrics.pairwise import cosine_similarity\n",
    "import pandas as pd\n",
    "\n",
    "from langchain.text_splitter import CharacterTextSplitter\n",
    "#from langchain.document_loaders import UnstructuredFileLoader,UnstructuredMarkdownLoader\n",
    "from langchain.document_loaders import UnstructuredPDFLoader\n",
    "#from langchain.document_loaders import UnstructuredImageLoader\n",
    "#from rapidocr_onnxruntime import RapidOCR\n",
    "\n",
    "import os\n",
    "from openai import AzureOpenAI\n",
    "from dotenv import load_dotenv\n",
    "import tiktoken\n",
    "import pdfminer\n",
    "from pdfminer import utils\n",
    "\n",
    "max_token = 8000\n",
    "split_doc_size = 1000\n",
    "chunk_overlap = 50\n",
    "pdf_file = 'data/IRM_Help.pdf'\n",
    "work_dir = '/Users/I069899/Documents/study/AI/ai_anna/'\n",
    "db_path = \"data/vectordb\"\n",
    "\n",
    "env_path = os.getenv(\"HOME\") + \"/Documents/src/openai/.env\"\n",
    "load_dotenv(dotenv_path=env_path, verbose=True)\n",
    "\n",
    "os.environ[\"OPENAI_API_TYPE\"] = \"azure\"\n",
    "os.environ[\"OPENAI_API_VERSION\"] = \"2023-05-15\"\n",
    "os.environ[\"AZURE_OPENAI_ENDPOINT\"] = \"https://pvg-azure-openai-uk-south.openai.azure.com\"\n",
    "\n",
    "client = AzureOpenAI(\n",
    "  azure_endpoint = os.getenv(\"AZURE_OPENAI_ENDPOINT\"), \n",
    "  api_key=os.getenv(\"AZURE_OPENAI_API_KEY\"),  \n",
    "  api_version=\"2023-05-15\"\n",
    ")\n",
    "###\n",
    "\n",
    "\n",
    "\n",
    "#分割pdf文件\n",
    "def load_pdf_splitter(pdf_file, chunk_size=max_token, chunk_overlap=chunk_overlap):\n",
    "    docs = load_pdf_file(pdf_file)\n",
    "    text_splitter = CharacterTextSplitter(chunk_size=chunk_size, chunk_overlap=chunk_overlap)\n",
    "    split_docs = text_splitter.split_documents(docs)\n",
    "    #默认展示分割后第一段内容\n",
    "    print('split_docs[0]: ', split_docs[0])\n",
    "    return split_docs\n",
    "\n",
    "#加载pdf文件\n",
    "def load_pdf_file(pdf_file):    \n",
    "    loader = UnstructuredPDFLoader(os.path.join(work_dir, pdf_file))\n",
    "    docs = loader.load()\n",
    "    print('pdf:\\n',docs[0].page_content[:split_doc_size])\n",
    "    return docs\n",
    "\n",
    "#try load_pdf_splitter\n",
    "#split_docs = load_pdf_splitter(pdf_file, max_token, chunk_overlap)\n",
    "split_docs = load_pdf_splitter('/Users/I069899/Documents/study/AI/ai_anna/data/IRM_Help.pdf', max_token, chunk_overlap)\n",
    "print(\" pdf data load by UnstructuredPDFLoader is \", split_docs)\n",
    "# docs = load_pdf_by_pdfloader(pdf_file)\n",
    "# print(\" pdf data load by PDFLoader is \", docs)\n",
    "print(\"**** load pdf complete\")"
   ]
  },
  {
   "cell_type": "code",
   "execution_count": null,
   "metadata": {},
   "outputs": [],
   "source": []
  }
 ],
 "metadata": {
  "kernelspec": {
   "display_name": "Python 3 (ipykernel)",
   "language": "python",
   "name": "python3"
  },
  "language_info": {
   "codemirror_mode": {
    "name": "ipython",
    "version": 3
   },
   "file_extension": ".py",
   "mimetype": "text/x-python",
   "name": "python",
   "nbconvert_exporter": "python",
   "pygments_lexer": "ipython3",
   "version": "3.11.7"
  }
 },
 "nbformat": 4,
 "nbformat_minor": 4
}
