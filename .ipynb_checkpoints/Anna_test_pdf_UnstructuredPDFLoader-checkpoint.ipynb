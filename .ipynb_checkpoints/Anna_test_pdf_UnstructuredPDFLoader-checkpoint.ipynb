{
 "cells": [
  {
   "cell_type": "code",
   "execution_count": 1,
   "metadata": {
    "tags": []
   },
   "outputs": [
    {
     "ename": "NameError",
     "evalue": "name 'CharacterTextSplitter' is not defined",
     "output_type": "error",
     "traceback": [
      "\u001b[0;31m---------------------------------------------------------------------------\u001b[0m",
      "\u001b[0;31mNameError\u001b[0m                                 Traceback (most recent call last)",
      "Cell \u001b[0;32mIn[1], line 28\u001b[0m\n\u001b[1;32m     25\u001b[0m   split_docs \u001b[38;5;241m=\u001b[39m text_splitter\u001b[38;5;241m.\u001b[39msplit_documents(docs)\n\u001b[1;32m     26\u001b[0m   \u001b[38;5;28;01mreturn\u001b[39;00m split_docs\n\u001b[0;32m---> 28\u001b[0m split_docs \u001b[38;5;241m=\u001b[39m load_pdf_splitter()\n\u001b[1;32m     29\u001b[0m \u001b[38;5;66;03m# Print success message\u001b[39;00m\n\u001b[1;32m     30\u001b[0m \u001b[38;5;28mprint\u001b[39m(\u001b[38;5;124m\"\u001b[39m\u001b[38;5;124m**** PDF load complete\u001b[39m\u001b[38;5;124m\"\u001b[39m)\n",
      "Cell \u001b[0;32mIn[1], line 24\u001b[0m, in \u001b[0;36mload_pdf_splitter\u001b[0;34m()\u001b[0m\n\u001b[1;32m     22\u001b[0m \u001b[38;5;66;03m#loader = UnstructuredPDFLoader(\"/Users/I069899/Documents/study/AI/ai_anna/data/IRM_Help.pdf\")\u001b[39;00m\n\u001b[1;32m     23\u001b[0m docs \u001b[38;5;241m=\u001b[39m loader\u001b[38;5;241m.\u001b[39mload()\n\u001b[0;32m---> 24\u001b[0m text_splitter \u001b[38;5;241m=\u001b[39m CharacterTextSplitter(chunk_size\u001b[38;5;241m=\u001b[39msplit_doc_size, chunk_overlap\u001b[38;5;241m=\u001b[39mchunk_overlap)\n\u001b[1;32m     25\u001b[0m split_docs \u001b[38;5;241m=\u001b[39m text_splitter\u001b[38;5;241m.\u001b[39msplit_documents(docs)\n\u001b[1;32m     26\u001b[0m \u001b[38;5;28;01mreturn\u001b[39;00m split_docs\n",
      "\u001b[0;31mNameError\u001b[0m: name 'CharacterTextSplitter' is not defined"
     ]
    }
   ],
   "source": [
    "#from langchain.document_loaders.pdf_loader import PDFLoader\n",
    "#langchain_community.document_loaders.pdf.UnstructuredPDFLoader\n",
    "# from langchain.embeddings import AzureOpenAIEmbeddings\n",
    "# from langchain.vectorstores import FAISS\n",
    "# import gradio as gr\n",
    "# from sklearn.metrics.pairwise import cosine_similarity\n",
    "# import pandas as pd\n",
    "\n",
    "from langchain.text_splitter import CharacterTextSplitter\n",
    "from langchain.document_loaders import UnstructuredPDFLoader\n",
    "\n",
    "import os\n",
    "\n",
    "max_token = 8000\n",
    "split_doc_size = 1000\n",
    "chunk_overlap = 50\n",
    "pdf_file_name = 'data/IRM_Help.pdf'\n",
    "work_dir = '/Users/I069899/Documents/study/AI/ai_anna/'\n",
    "\n",
    "def load_pdf_splitter():\n",
    "  loader = UnstructuredPDFLoader(os.path.join(work_dir, pdf_file_name))\n",
    "  #loader = UnstructuredPDFLoader(\"/Users/I069899/Documents/study/AI/ai_anna/data/IRM_Help.pdf\")\n",
    "  docs = loader.load()\n",
    "  text_splitter = CharacterTextSplitter(chunk_size=split_doc_size, chunk_overlap=chunk_overlap)\n",
    "  split_docs = text_splitter.split_documents(docs)\n",
    "  return split_docs\n",
    "  \n",
    "split_docs = load_pdf_splitter()\n",
    "# Print success message\n",
    "print(\"**** PDF load complete\")"
   ]
  },
  {
   "cell_type": "code",
   "execution_count": null,
   "metadata": {},
   "outputs": [],
   "source": []
  }
 ],
 "metadata": {
  "kernelspec": {
   "display_name": "Python 3 (ipykernel)",
   "language": "python",
   "name": "python3"
  },
  "language_info": {
   "codemirror_mode": {
    "name": "ipython",
    "version": 3
   },
   "file_extension": ".py",
   "mimetype": "text/x-python",
   "name": "python",
   "nbconvert_exporter": "python",
   "pygments_lexer": "ipython3",
   "version": "3.11.7"
  }
 },
 "nbformat": 4,
 "nbformat_minor": 4
}
