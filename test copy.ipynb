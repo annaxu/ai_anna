{
 "cells": [
  {
   "cell_type": "code",
   "execution_count": 5,
   "metadata": {},
   "outputs": [
    {
     "ename": "TypeError",
     "evalue": "can only concatenate list (not \"str\") to list",
     "output_type": "error",
     "traceback": [
      "\u001b[0;31m---------------------------------------------------------------------------\u001b[0m",
      "\u001b[0;31mTypeError\u001b[0m                                 Traceback (most recent call last)",
      "Cell \u001b[0;32mIn[5], line 56\u001b[0m\n\u001b[1;32m     53\u001b[0m         searchResult \u001b[38;5;241m=\u001b[39m \u001b[38;5;124mf\u001b[39m\u001b[38;5;124m\"\u001b[39m\u001b[38;5;124mRequest failed with status code \u001b[39m\u001b[38;5;132;01m{\u001b[39;00mresponse\u001b[38;5;241m.\u001b[39mstatus_code\u001b[38;5;132;01m}\u001b[39;00m\u001b[38;5;124m\"\u001b[39m\n\u001b[1;32m     54\u001b[0m         \u001b[38;5;28;01mreturn\u001b[39;00m searchResult\n\u001b[0;32m---> 56\u001b[0m \u001b[43msearch_sap_help\u001b[49m\u001b[43m(\u001b[49m\u001b[38;5;124;43m'\u001b[39;49m\u001b[38;5;124;43mcosine\u001b[39;49m\u001b[38;5;124;43m'\u001b[39;49m\u001b[43m)\u001b[49m\n",
      "Cell \u001b[0;32mIn[5], line 45\u001b[0m, in \u001b[0;36msearch_sap_help\u001b[0;34m(query)\u001b[0m\n\u001b[1;32m     43\u001b[0m         result_string \u001b[38;5;241m+\u001b[39m\u001b[38;5;241m=\u001b[39m\u001b[38;5;124m\"\u001b[39m\u001b[38;5;130;01m\\n\u001b[39;00m\u001b[38;5;124mLast updated: \u001b[39m\u001b[38;5;124m\"\u001b[39m \u001b[38;5;241m+\u001b[39m result[\u001b[38;5;124m\"\u001b[39m\u001b[38;5;124mdate\u001b[39m\u001b[38;5;124m\"\u001b[39m] \n\u001b[1;32m     44\u001b[0m     result_strings\u001b[38;5;241m.\u001b[39mappend(result_string)\n\u001b[0;32m---> 45\u001b[0m     result_strings \u001b[38;5;241m=\u001b[39m \u001b[43mresult_strings\u001b[49m\u001b[43m \u001b[49m\u001b[38;5;241;43m+\u001b[39;49m\u001b[43m \u001b[49m\u001b[38;5;124;43m\"\u001b[39;49m\u001b[38;5;130;43;01m\\n\u001b[39;49;00m\u001b[38;5;124;43m\"\u001b[39;49m\n\u001b[1;32m     46\u001b[0m final_string \u001b[38;5;241m=\u001b[39m \u001b[38;5;124m\"\u001b[39m\u001b[38;5;130;01m\\n\u001b[39;00m\u001b[38;5;124m\"\u001b[39m\u001b[38;5;241m.\u001b[39mjoin(result_strings)\n\u001b[1;32m     47\u001b[0m \u001b[38;5;28mprint\u001b[39m(final_string)\n",
      "\u001b[0;31mTypeError\u001b[0m: can only concatenate list (not \"str\") to list"
     ]
    }
   ],
   "source": [
    "import requests\n",
    "from bs4 import BeautifulSoup\n",
    "import urllib.parse\n",
    "\n",
    "def search_sap_help(query):\n",
    "    query_content = urllib.parse.quote_plus(query)\n",
    "    url1 = f\"https://help.sap.com/http.svc/elasticsearch?area=content&version=&language=en-US&state=PRODUCTION&q={query_content}&transtype=standard,html,pdf,others&product=&to=19&advancedSearch=0&excludeNotSearchable=1\"\n",
    "    url0 = f\"https://help.sap.com/http.svc/elasticsearch?area=topproducts&q={query_content}&language=&state=PRODUCTION&transtype=standard,html,pdf,others&product=&to=5&excludeNotSearchable=0\"\n",
    "    response = requests.get(url0)\n",
    "    if response.status_code == 200:\n",
    "        responseJson = response.json()\n",
    "        if responseJson.get('status') == 'OK':\n",
    "            data = responseJson.get('data', {})\n",
    "            products = data.get('products', [])\n",
    "            result_strings = []\n",
    "            if len(products) != 0:\n",
    "                for product in products:\n",
    "                    result_string = product[\"title\"]\n",
    "                    if product[\"alternativeProductName\"]:\n",
    "                        result_string += \"(Search Term: \" + product[\"alternativeProductName\"] + \")\"\n",
    "                    result_strings.append(result_string)\n",
    "                final_string = \"\\n\".join(result_strings)\n",
    "                print(final_string)\n",
    "                return final_string\n",
    "            else:\n",
    "                response = requests.get(url1)\n",
    "                if response.status_code == 200:\n",
    "                    responseJson = response.json()\n",
    "                    if responseJson.get('status') == 'OK':\n",
    "                        data = responseJson.get('data', {})\n",
    "                        results = data.get('results', [])\n",
    "                        result_strings = []\n",
    "                        if len(results) != 0:\n",
    "                            for result in results:\n",
    "                                result_string = result[\"title\"]\n",
    "                                if(result[\"url\"]):\n",
    "                                    result_url = result.get('url', 'N/A')\n",
    "                                    result_string += \"\\n\" + \"https://help.sap.com\" + result_url\n",
    "                                if result[\"snippet\"]:\n",
    "                                    snippet = BeautifulSoup(result.get('snippet', 'N/A'), 'html.parser')\n",
    "                                    result_string += \"\\n\" + snippet.text\n",
    "                                if result[\"date\"]:\n",
    "                                    result_string +=\"\\nLast updated: \" + result[\"date\"] \n",
    "                                result_strings.append(result_string)\n",
    "                                result_strings.append(\"\\n\")\n",
    "                            final_string = \"\\n\".join(result_strings)\n",
    "                            print(final_string)\n",
    "                            return final_string\n",
    "        else:\n",
    "            searchResult = \"No results found by query from the help.sap.com\"\n",
    "            return searchResult\n",
    "    else:\n",
    "        searchResult = f\"Request failed with status code {response.status_code}\"\n",
    "        return searchResult\n",
    "\n",
    "search_sap_help('cosine')"
   ]
  }
 ],
 "metadata": {
  "kernelspec": {
   "display_name": "py310",
   "language": "python",
   "name": "python3"
  },
  "language_info": {
   "codemirror_mode": {
    "name": "ipython",
    "version": 3
   },
   "file_extension": ".py",
   "mimetype": "text/x-python",
   "name": "python",
   "nbconvert_exporter": "python",
   "pygments_lexer": "ipython3",
   "version": "3.11.8"
  }
 },
 "nbformat": 4,
 "nbformat_minor": 2
}
