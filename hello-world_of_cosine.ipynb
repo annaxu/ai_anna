{
 "cells": [
  {
   "cell_type": "markdown",
   "id": "8da67c73-9627-42c5-a128-1e4b67587656",
   "metadata": {},
   "source": [
    "# Hello World for LLM\n",
    "\n",
    "## Demo code to connect to Azure OpenAI\n",
    "A quick demo code to connect to Azure OpenAI interface, and run some prompt.\n",
    "\n",
    "Please ensure you have .env file in your HOME/Documents/src/openai/ folder"
   ]
  },
  {
   "cell_type": "code",
   "execution_count": 8,
   "id": "83e6f66b-598b-4883-b09d-39527f4dcd54",
   "metadata": {},
   "outputs": [
    {
     "name": "stdout",
     "output_type": "stream",
     "text": [
      "env_path is  /Users/I069899/Documents/src/openai/.env\n",
      "Yes, many Azure AI services support a similar level of functionality and integration with other Azure services. Some common examples include Azure Cognitive Services, Azure Machine Learning, and Azure Bot Service, among others. Each of these services offers a unique set of capabilities designed to meet various AI and machine learning needs. If you have specific requirements or questions about other Azure AI services, feel free to ask!\n"
     ]
    }
   ],
   "source": [
    "from openai import AzureOpenAI\n",
    "from dotenv import load_dotenv\n",
    "import os\n",
    "\n",
    "env_path = os.getenv(\"HOME\") + \"/Documents/src/openai/.env\"\n",
    "print(\"env_path is \",env_path)\n",
    "load_dotenv(dotenv_path=env_path, verbose=True)\n",
    "\n",
    "os.environ[\"OPENAI_API_TYPE\"] = \"azure\"\n",
    "os.environ[\"OPENAI_API_VERSION\"] = \"2023-05-15\"\n",
    "os.environ[\"AZURE_OPENAI_ENDPOINT\"] = \"https://pvg-azure-openai-uk-south.openai.azure.com\"\n",
    "\n",
    "client = AzureOpenAI(\n",
    "  azure_endpoint = os.getenv(\"AZURE_OPENAI_ENDPOINT\"), \n",
    "  api_key=os.getenv(\"AZURE_OPENAI_API_KEY\"),  \n",
    "  api_version=\"2023-05-15\"\n",
    ")\n",
    "\n",
    "response = client.chat.completions.create(\n",
    "    model=\"gpt-35-turbo\", # model = \"deployment_name\".\n",
    "    messages=[\n",
    "        {\"role\": \"system\", \"content\": \"You are a helpful assistant.\"},\n",
    "        {\"role\": \"user\", \"content\": \"Do other Azure AI services support this too?\"}\n",
    "    ]\n",
    ")\n",
    "\n",
    "print(response.choices[0].message.content)"
   ]
  },
  {
   "cell_type": "code",
   "execution_count": 2,
   "id": "8e3b7666-9024-48bf-8040-683da48aef9d",
   "metadata": {},
   "outputs": [
    {
     "name": "stderr",
     "output_type": "stream",
     "text": [
      "/Users/I069899/anaconda3/envs/py310/lib/python3.11/site-packages/langchain_core/_api/deprecation.py:117: LangChainDeprecationWarning: The class `langchain_community.chat_models.azure_openai.AzureChatOpenAI` was deprecated in langchain-community 0.0.10 and will be removed in 0.2.0. An updated version of the class exists in the langchain-openai package and should be used instead. To use it run `pip install -U langchain-openai` and import as `from langchain_openai import AzureChatOpenAI`.\n",
      "  warn_deprecated(\n",
      "/Users/I069899/anaconda3/envs/py310/lib/python3.11/site-packages/langchain_core/_api/deprecation.py:117: LangChainDeprecationWarning: The function `__call__` was deprecated in LangChain 0.1.7 and will be removed in 0.2.0. Use invoke instead.\n",
      "  warn_deprecated(\n"
     ]
    },
    {
     "name": "stdout",
     "output_type": "stream",
     "text": [
      "content='我是谁？ (Wǒ shì shuí?)'\n"
     ]
    }
   ],
   "source": [
    "from langchain.chat_models import AzureChatOpenAI\n",
    "from langchain.schema import HumanMessage\n",
    " \n",
    "model = AzureChatOpenAI(deployment_name=\"gpt-35-turbo\")\n",
    " \n",
    "message = HumanMessage(\n",
    "    content=\"Translate this sentence from English to Chinese: Who am I?\"\n",
    ")\n",
    "print(model([message]))"
   ]
  },
  {
   "cell_type": "markdown",
   "id": "b8c5ccee-e339-42c0-b7c0-397ef2ba60e0",
   "metadata": {},
   "source": [
    "## Count the token of an input\n",
    "\n",
    "A piece of code to visualize the token of a string input. "
   ]
  },
  {
   "cell_type": "code",
   "execution_count": 1,
   "id": "0bf7fdfb-a016-4cc8-beda-6b81b334db7e",
   "metadata": {},
   "outputs": [
    {
     "name": "stdout",
     "output_type": "stream",
     "text": [
      "\u001b[0;47;1mIn\u001b[0m\u001b[0;42;1m today\u001b[0m\u001b[0;43;1m's\u001b[0m\u001b[0;44;1m rapidly\u001b[0m\u001b[0;46;1m changing\u001b[0m\u001b[0;45;1m world\u001b[0m\u001b[0;47;1m,\u001b[0m\u001b[0;42;1m knowledge\u001b[0m\u001b[0;43;1m is\u001b[0m\u001b[0;44;1m constantly\u001b[0m\u001b[0;46;1m being\u001b[0m\u001b[0;45;1m refreshed\u001b[0m\u001b[0;47;1m,\u001b[0m\u001b[0;42;1m and\u001b[0m\u001b[0;43;1m it\u001b[0m\u001b[0;44;1m's\u001b[0m\u001b[0;46;1m essential\u001b[0m\u001b[0;45;1m to\u001b[0m\u001b[0;47;1m adapt\u001b[0m\u001b[0;42;1m and\u001b[0m\u001b[0;43;1m evolve\u001b[0m\u001b[0;44;1m in\u001b[0m\u001b[0;46;1m order\u001b[0m\u001b[0;45;1m to\u001b[0m\u001b[0;47;1m avoid\u001b[0m\u001b[0;42;1m becoming\u001b[0m\u001b[0;43;1m obsolete\u001b[0m\u001b[0;44;1m.\u001b[0m\u001b[0;46;1m The\u001b[0m\u001b[0;45;1m impact\u001b[0m\u001b[0;47;1m of\u001b[0m\u001b[0;42;1m macro\u001b[0m\u001b[0;43;1m-economic\u001b[0m\u001b[0;44;1m factors\u001b[0m\u001b[0;46;1m on\u001b[0m\u001b[0;45;1m our\u001b[0m\u001b[0;47;1m company\u001b[0m\u001b[0;42;1m and\u001b[0m\u001b[0;43;1m industry\u001b[0m\u001b[0;44;1m necess\u001b[0m\u001b[0;46;1mitates\u001b[0m\u001b[0;45;1m a\u001b[0m\u001b[0;47;1m proactive\u001b[0m\u001b[0;42;1m approach\u001b[0m\u001b[0;43;1m skill\u001b[0m\u001b[0;44;1m development\u001b[0m\u001b[0;46;1m and\u001b[0m\u001b[0;45;1m strategic\u001b[0m\u001b[0;47;1m influence\u001b[0m\u001b[0;42;1m to\u001b[0m\u001b[0;43;1m ensure\u001b[0m\u001b[0;44;1m that\u001b[0m\u001b[0;46;1m our\u001b[0m\u001b[0;45;1m team\u001b[0m\u001b[0;47;1m remains\u001b[0m\u001b[0;42;1m at\u001b[0m\u001b[0;43;1m the\u001b[0m\u001b[0;44;1m forefront\u001b[0m\u001b[0;46;1m of\u001b[0m\u001b[0;45;1m our\u001b[0m\u001b[0;47;1m organization\u001b[0m\u001b[0;42;1m.\u001b[0m\u001b[0;43;1m By\u001b[0m\u001b[0;44;1m leveraging\u001b[0m\u001b[0;46;1m our\u001b[0m\u001b[0;45;1m collective\u001b[0m\u001b[0;47;1m skills\u001b[0m\u001b[0;42;1m and\u001b[0m\u001b[0;43;1m expertise\u001b[0m\u001b[0;44;1m,\u001b[0m\u001b[0;46;1m we\u001b[0m\u001b[0;45;1m have\u001b[0m\u001b[0;47;1m the\u001b[0m\u001b[0;42;1m opportunity\u001b[0m\u001b[0;43;1m to\u001b[0m\u001b[0;44;1m consolidate\u001b[0m\u001b[0;46;1m efforts\u001b[0m\u001b[0;45;1m across\u001b[0m\u001b[0;47;1m multiple\u001b[0m\u001b[0;42;1m teams\u001b[0m\u001b[0;43;1m and\u001b[0m\u001b[0;44;1m achieve\u001b[0m\u001b[0;46;1m larger\u001b[0m\u001b[0;45;1m,\u001b[0m\u001b[0;47;1m more\u001b[0m\u001b[0;42;1m impactful\u001b[0m\u001b[0;43;1m goals\u001b[0m\u001b[0;44;1m.\u001b[0m\u001b[0;46;1m While\u001b[0m\u001b[0;45;1m individuals\u001b[0m\u001b[0;47;1m may\u001b[0m\u001b[0;42;1m excel\u001b[0m\u001b[0;43;1m in\u001b[0m\u001b[0;44;1m their\u001b[0m\u001b[0;46;1m own\u001b[0m\u001b[0;45;1m right\u001b[0m\u001b[0;47;1m,\u001b[0m\u001b[0;42;1m it\u001b[0m\u001b[0;43;1m's\u001b[0m\u001b[0;44;1m through\u001b[0m\u001b[0;46;1m collaborative\u001b[0m\u001b[0;45;1m efforts\u001b[0m\u001b[0;47;1m that\u001b[0m\u001b[0;42;1m we\u001b[0m\u001b[0;43;1m can\u001b[0m\u001b[0;44;1m truly\u001b[0m\u001b[0;46;1m propel\u001b[0m\u001b[0;45;1m our\u001b[0m\u001b[0;47;1m path\u001b[0m\u001b[0;42;1m forward\u001b[0m\u001b[0;43;1m.\u001b[0m\n",
      "\n",
      "['In', ' today', \"'s\", ' rapidly', ' changing', ' world', ',', ' knowledge', ' is', ' constantly', ' being', ' refreshed', ',', ' and', ' it', \"'s\", ' essential', ' to', ' adapt', ' and', ' evolve', ' in', ' order', ' to', ' avoid', ' becoming', ' obsolete', '.', ' The', ' impact', ' of', ' macro', '-economic', ' factors', ' on', ' our', ' company', ' and', ' industry', ' necess', 'itates', ' a', ' proactive', ' approach', ' skill', ' development', ' and', ' strategic', ' influence', ' to', ' ensure', ' that', ' our', ' team', ' remains', ' at', ' the', ' forefront', ' of', ' our', ' organization', '.', ' By', ' leveraging', ' our', ' collective', ' skills', ' and', ' expertise', ',', ' we', ' have', ' the', ' opportunity', ' to', ' consolidate', ' efforts', ' across', ' multiple', ' teams', ' and', ' achieve', ' larger', ',', ' more', ' impactful', ' goals', '.', ' While', ' individuals', ' may', ' excel', ' in', ' their', ' own', ' right', ',', ' it', \"'s\", ' through', ' collaborative', ' efforts', ' that', ' we', ' can', ' truly', ' propel', ' our', ' path', ' forward', '.']\n",
      "\n",
      "[644, 3432, 596, 19019, 10223, 1917, 11, 6677, 374, 15320, 1694, 66229, 11, 323, 433, 596, 7718, 311, 10737, 323, 38680, 304, 2015, 311, 5766, 10671, 47166, 13, 578, 5536, 315, 18563, 77249, 9547, 389, 1057, 2883, 323, 5064, 4541, 82829, 264, 59314, 5603, 10151, 4500, 323, 19092, 10383, 311, 6106, 430, 1057, 2128, 8625, 520, 279, 52301, 315, 1057, 7471, 13, 3296, 77582, 1057, 22498, 7512, 323, 19248, 11, 584, 617, 279, 6776, 311, 74421, 9045, 4028, 5361, 7411, 323, 11322, 8294, 11, 810, 98990, 9021, 13, 6104, 7931, 1253, 25555, 304, 872, 1866, 1314, 11, 433, 596, 1555, 40806, 9045, 430, 584, 649, 9615, 89483, 1057, 1853, 4741, 13]\n",
      "\n",
      "Token Count: 111\n",
      "Characters: 650\n"
     ]
    }
   ],
   "source": [
    "import tiktoken\n",
    "from IPython.display import clear_output\n",
    "\n",
    "enc4GPT4 = tiktoken.encoding_for_model(\"gpt-4\")\n",
    "print(enc4GPT4)\n",
    "color_codes = ['0;47', '0;42', '0;43', '0;44', '0;46', '0;45']\n",
    "\n",
    "user_input = input(\"Input your text: \")\n",
    "clear_output(wait=True)\n",
    "\n",
    "encoded = enc4GPT4.encode(user_input)\n",
    "decoded = enc4GPT4.decode_tokens_bytes(encoded)\n",
    "token_list = [token.decode() for token in decoded]\n",
    "\n",
    "char_count= sum(len(i) for i in token_list)\n",
    "\n",
    "for idx, token in enumerate(token_list):\n",
    "    print(f'\\x1b[{color_codes[idx % len(color_codes)]};1m{token}\\x1b[0m', end='')\n",
    "\n",
    "print(\"\\n\\n\" + str(token_list) + \"\\n\")\n",
    "print(str(encoded) + \"\\n\")\n",
    "print(\"Token Count: \" + str(len(encoded)))\n",
    "print(\"Characters: \"  + str(char_count))"
   ]
  },
  {
   "cell_type": "markdown",
   "id": "d55f32b2-a4c9-40dd-9a56-9f9bf5625716",
   "metadata": {},
   "source": [
    "Here is a piece of sample code to avoid token exceeding limits."
   ]
  },
  {
   "cell_type": "code",
   "execution_count": 9,
   "id": "ec0a5332-4d61-423b-911d-7266f50928e1",
   "metadata": {},
   "outputs": [
    {
     "name": "stdout",
     "output_type": "stream",
     "text": [
      "env_path is  /Users/I069899/Documents/src/openai/.env\n",
      "\n",
      "I'm an AI digital assistant, so I don't have real-time information. However, you can easily check the weather by using a weather website or app.\n",
      "\n",
      "Post response token count: 63\n",
      "\n",
      "{'role': 'user', 'content': 'Hello, how is the weather today?'}\n",
      "\n",
      "\n",
      "\n",
      "\n",
      "To check the weather using a weather app, you can follow these steps:\n",
      "\n",
      "1. Open the app store on your smartphone (e.g., Google Play Store for Android or the App Store for iOS).\n",
      "2. In the search bar, type in \"weather app\" and search for available options.\n",
      "3. Choose a weather app that has good ratings and reviews.\n",
      "4. Download and install the app on your smartphone.\n",
      "5. Once the app is installed, open it and allow location access so that it can provide you with the weather information for your current location.\n",
      "6. You can then use the app to view the current weather conditions, hourly forecasts, and extended forecasts for your area.\n",
      "\n",
      "Popular weather apps include AccuWeather, The Weather Channel, and Weather Underground, among others.\n",
      "\n",
      "Post response token count: 236\n",
      "\n",
      "{'role': 'user', 'content': 'Hello, how is the weather today?'}\n",
      "\n",
      "\n",
      "\n",
      "\n",
      "To check the weather using a weather app, you can follow these general steps:\n",
      "\n",
      "1. Open the weather app on your smartphone or tablet. If you don't have a weather app installed, you can download one from your device's app store.\n",
      "\n",
      "2. Once the app is open, it will typically display the current weather conditions for your location. You can also explore other features such as hourly forecasts, daily forecasts, radar maps, and severe weather alerts.\n",
      "\n",
      "3. Many weather apps allow you to search for the weather in other locations as well. You can enter a city or zip code to get the weather forecast for that area.\n",
      "\n",
      "4. Some weather apps also provide additional features such as weather news, videos, and lifestyle forecasts that can help you plan your activities based on the weather.\n",
      "\n",
      "Keep in mind that specific steps may vary depending on the weather app you choose to use, but most weather apps are designed to be intuitive and user-friendly.\n",
      "\n",
      "Post response token count: 430\n",
      "\n",
      "{'role': 'assistant', 'content': \"I'm an AI digital assistant, so I don't have real-time information. However, you can easily check the weather by using a weather website or app.\"}\n",
      "\n",
      "\n",
      "\n",
      "\n",
      "Certainly! There are several popular weather apps that you can use to check the weather. Some of the most widely used weather apps include:\n",
      "\n",
      "1. The Weather Channel\n",
      "2. AccuWeather\n",
      "3. Weather Underground\n",
      "4. Dark Sky\n",
      "5. Yahoo Weather\n",
      "6. WeatherBug\n",
      "7. CARROT Weather\n",
      "8. Radarscope (especially for radar maps and severe weather tracking)\n",
      "9. Windy.com (great for wind and wave forecasts)\n",
      "\n",
      "These apps are available for both iOS and Android devices, and they offer a range of features such as current conditions, forecasts, radar maps, and severe weather alerts. You can download these apps from the respective app stores on your device and choose the one that best suits your preferences and needs.\n",
      "\n",
      "Post response token count: 395\n",
      "\n",
      "{'role': 'user', 'content': 'Hello, how to check the weather app?'}\n",
      "\n",
      "\n",
      "\n"
     ]
    }
   ],
   "source": [
    "from openai import AzureOpenAI\n",
    "from dotenv import load_dotenv\n",
    "import os\n",
    "\n",
    "env_path = os.getenv(\"HOME\") + \"/Documents/src/openai/.env\"\n",
    "print(\"env_path is \",env_path)\n",
    "load_dotenv(dotenv_path=env_path, verbose=True)\n",
    "\n",
    "client = AzureOpenAI(\n",
    "  azure_endpoint = os.getenv(\"AZURE_OPENAI_ENDPOINT\"), \n",
    "  api_key=os.getenv(\"AZURE_OPENAI_API_KEY\"),  \n",
    "  api_version=\"2023-05-15\"\n",
    ")\n",
    "\n",
    "system_message = {\"role\": \"system\", \"content\": \"You are a helpful assistant.\"}\n",
    "max_response_tokens = 250\n",
    "token_limit= 500\n",
    "conversation=[]\n",
    "conversation.append(system_message)\n",
    "\n",
    "\n",
    "def num_tokens_from_messages(messages, model=\"gpt-3.5-turbo-0301\"):\n",
    "    encoding = tiktoken.encoding_for_model(model)\n",
    "    num_tokens = 0\n",
    "    for message in messages:\n",
    "        num_tokens += 4  # every message follows <im_start>{role/name}\\n{content}<im_end>\\n\n",
    "        for key, value in message.items():\n",
    "            num_tokens += len(encoding.encode(value))\n",
    "            if key == \"name\":  # if there's a name, the role is omitted\n",
    "                num_tokens += -1  # role is always required and always 1 token\n",
    "    num_tokens += 2  # every reply is primed with <im_start>assistant\n",
    "    return num_tokens\n",
    "\n",
    "while(True):\n",
    "    user_input = input(\"\")     \n",
    "    conversation.append({\"role\": \"user\", \"content\": user_input})\n",
    "    conv_history_tokens = num_tokens_from_messages(conversation)\n",
    "\n",
    "    while (conv_history_tokens+max_response_tokens >= token_limit):\n",
    "        del conversation[1]\n",
    "        conv_history_tokens = num_tokens_from_messages(conversation)\n",
    "        \n",
    "    response = client.chat.completions.create(\n",
    "        model=\"gpt-35-turbo\",\n",
    "        messages = conversation,\n",
    "        temperature=.7,\n",
    "        max_tokens=max_response_tokens,\n",
    "    )\n",
    "\n",
    "    conversation.append({\"role\": \"assistant\", \"content\": response.choices[0].message.content})\n",
    "    print(\"\\n\" + response.choices[0].message.content + \"\\n\")\n",
    "    post_response=num_tokens_from_messages(conversation)\n",
    "    print(f\"Post response token count: {post_response}\")\n",
    "    print(\"\\n\" + str(conversation[1]))\n",
    "    print(\"\\n\\n\")"
   ]
  },
  {
   "cell_type": "code",
   "execution_count": 1,
   "id": "26197081-df4e-4fea-8846-64ddd5956355",
   "metadata": {},
   "outputs": [
    {
     "name": "stdout",
     "output_type": "stream",
     "text": [
      "**** enc4Ada002 is ****  <Encoding 'cl100k_base'>\n",
      "**** enc4Emb3 is *****  <Encoding 'cl100k_base'>\n"
     ]
    }
   ],
   "source": [
    "from openai import AzureOpenAI\n",
    "from dotenv import load_dotenv\n",
    "import pandas as pd\n",
    "import tiktoken\n",
    "import os\n",
    "from IPython.display import clear_output\n",
    "\n",
    "env_path = os.getenv(\"HOME\") + \"/Documents/src/openai/.env\"\n",
    "load_dotenv(dotenv_path=env_path, verbose=True)\n",
    "\n",
    "os.environ[\"OPENAI_API_TYPE\"] = \"azure\"\n",
    "os.environ[\"OPENAI_API_VERSION\"] = \"2023-05-15\"\n",
    "os.environ[\"AZURE_OPENAI_ENDPOINT\"] = \"https://pvg-azure-openai-uk-south.openai.azure.com\"\n",
    "\n",
    "\n",
    "\n",
    "enc4Ada002 = tiktoken.encoding_for_model(\"text-embedding-ada-002\")\n",
    "print(\"**** enc4Ada002 is **** \", enc4Ada002)\n",
    "enc4Emb3 = tiktoken.encoding_for_model(\"text-embedding-3-small\")\n",
    "print(\"**** enc4Emb3 is ***** \", enc4Emb3)"
   ]
  }
 ],
 "metadata": {
  "kernelspec": {
   "display_name": "Python 3 (ipykernel)",
   "language": "python",
   "name": "python3"
  },
  "language_info": {
   "codemirror_mode": {
    "name": "ipython",
    "version": 3
   },
   "file_extension": ".py",
   "mimetype": "text/x-python",
   "name": "python",
   "nbconvert_exporter": "python",
   "pygments_lexer": "ipython3",
   "version": "3.11.7"
  }
 },
 "nbformat": 4,
 "nbformat_minor": 5
}
