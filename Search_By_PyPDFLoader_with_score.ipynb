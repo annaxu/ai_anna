{
 "cells": [
  {
   "cell_type": "code",
   "execution_count": 17,
   "metadata": {
    "tags": []
   },
   "outputs": [
    {
     "name": "stdout",
     "output_type": "stream",
     "text": [
      "**** PDF load complete\n",
      " result is  No proper result found\n",
      " score is  0\n"
     ]
    }
   ],
   "source": [
    "from langchain.text_splitter import CharacterTextSplitter\n",
    "from langchain_community.vectorstores import FAISS\n",
    "from dotenv import load_dotenv\n",
    "from langchain_community.document_loaders import PyPDFLoader\n",
    "import os\n",
    "from langchain_openai import AzureOpenAIEmbeddings, AzureChatOpenAI\n",
    "from langchain.chains import RetrievalQA\n",
    "\n",
    "max_token = 8000\n",
    "split_doc_size = 1000\n",
    "chunk_overlap = 50\n",
    "pdf_file_name = 'data/IRM_Help.pdf'\n",
    "work_dir = '/Users/I069899/Documents/study/AI/ai_anna/'\n",
    "db_path =  \"data/vectordb/\"\n",
    "\n",
    "def load_pdf_splitter():\n",
    "  loader = PyPDFLoader(os.path.join(work_dir, pdf_file_name))\n",
    "  pages = loader.load()\n",
    "  text_splitter = CharacterTextSplitter(separator =\"\\n\",chunk_size=1000,chunk_overlap=150)\n",
    "  docs = text_splitter.split_documents(pages)\n",
    "  return docs\n",
    "  \n",
    "split_docs = load_pdf_splitter()\n",
    "# Print success message\n",
    "print(\"**** PDF load complete\")\n",
    "\n",
    "\n",
    "def initialize_data():\n",
    "    split_docs = load_pdf_splitter()\n",
    "    db = FAISS.from_documents(split_docs, AzureOpenAIEmbeddings())\n",
    "    db.save_local(db_path)\n",
    "\n",
    "    new_db = FAISS.load_local(db_path, AzureOpenAIEmbeddings())\n",
    "    llm = AzureChatOpenAI(model_name=\"gpt-35-turbo\", temperature=0.5)\n",
    "    \n",
    "    # global AMAZON_REVIEW_BOT    \n",
    "    # AMAZON_REVIEW_BOT = RetrievalQA.from_chain_type(llm,\n",
    "    #               #retriever=db.as_retriever(search_type=\"similarity_score_threshold\",\n",
    "    #             retriever=new_db.as_retriever(search_type=\"similarity_score_threshold\",\n",
    "    #                 search_kwargs={\"score_threshold\": 0.5}))\n",
    "                \n",
    "    # AMAZON_REVIEW_BOT.return_source_documents = True\n",
    "    # return AMAZON_REVIEW_BOT\n",
    "    return new_db\n",
    "\n",
    "os.environ[\"OPENAI_API_TYPE\"] = \"azure\"\n",
    "os.environ[\"OPENAI_API_VERSION\"] = \"2023-05-15\"\n",
    "os.environ[\"OPENAI_API_BASE\"] = \"https://pvg-azure-openai-uk-south.openai.azure.com/openai\"\n",
    "env_path = os.getenv(\"HOME\") + \"/Documents/src/openai/.env\"\n",
    "load_dotenv(dotenv_path=env_path, verbose=True)\n",
    "\n",
    "def search_and_filter(new_db, query, threshold=0.5, k=30):\n",
    "    #answer_list = new_db.similarity_search_with_score(query, k=k)\n",
    "    answer_list = new_db.similarity_search_with_score(query)\n",
    "    answer_result, max_score = None, 0\n",
    "\n",
    "    for ans in answer_list:\n",
    "        if ans[1] > max_score:\n",
    "            max_score = ans[1]\n",
    "            answer_result = ans[0]\n",
    "\n",
    "    if max_score > threshold:\n",
    "        return answer_result, max_score\n",
    "    else:\n",
    "        return \"No proper result found\", 0\n",
    "\n",
    "#searchResult = initialize_data()\n",
    "new_db = initialize_data()\n",
    "query = \"Global Settings\"\n",
    "result = search_and_filter(new_db, query, threshold=0.5, k=30)\n",
    "\n",
    "print(\" result is \" , result[0])\n",
    "print(\" score is \" , result[1])\n",
    "\n",
    "\n",
    "\n",
    "\n",
    "# ans = searchResult({\"query\": \"ying qinmin\"})\n",
    "# if ans[\"source_documents\"]:\n",
    "#     source_document = ans['source_documents']\n",
    "#     print(\"00000000000 \", source_document)\n",
    "#     result = ans[\"result\"]\n",
    "#     print(\"111111111111 \", result)\n",
    "# else:\n",
    "#     result = \"I don't know.\"\n",
    "#     print(\"2222222\", result)"
   ]
  },
  {
   "cell_type": "code",
   "execution_count": null,
   "metadata": {},
   "outputs": [],
   "source": []
  }
 ],
 "metadata": {
  "kernelspec": {
   "display_name": "Python 3 (ipykernel)",
   "language": "python",
   "name": "python3"
  },
  "language_info": {
   "codemirror_mode": {
    "name": "ipython",
    "version": 3
   },
   "file_extension": ".py",
   "mimetype": "text/x-python",
   "name": "python",
   "nbconvert_exporter": "python",
   "pygments_lexer": "ipython3",
   "version": "3.11.8"
  }
 },
 "nbformat": 4,
 "nbformat_minor": 4
}
