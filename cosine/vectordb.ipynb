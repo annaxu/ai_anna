{
 "cells": [
  {
   "cell_type": "markdown",
   "id": "f067c8c4-3007-4b34-a4b2-9e9079906c34",
   "metadata": {},
   "source": [
    "# Vector Database\n",
    "\n",
    "## Demo code to store and search via a vector database\n",
    "A quick demo code to store and search based on data from amazon-fine-food-reviews\n",
    "\n",
    "Please ensure you have *.env* file in your HOME/Documents/src/openai/ folder"
   ]
  },
  {
   "cell_type": "code",
   "execution_count": 2,
   "id": "8aed98ff-4f15-4137-bd9f-af9ba28693c7",
   "metadata": {},
   "outputs": [],
   "source": [
    "from openai import AzureOpenAI\n",
    "from dotenv import load_dotenv\n",
    "import pandas as pd\n",
    "import tiktoken\n",
    "import os\n",
    "\n",
    "env_path = os.getenv(\"HOME\") + \"/Documents/src/openai/.env\"\n",
    "load_dotenv(dotenv_path=env_path, verbose=True)\n",
    "\n",
    "os.environ[\"OPENAI_API_TYPE\"] = \"azure\"\n",
    "os.environ[\"OPENAI_API_VERSION\"] = \"2023-05-15\"\n",
    "os.environ[\"AZURE_OPENAI_ENDPOINT\"] = \"https://pvg-azure-openai-uk-south.openai.azure.com\"\n",
    "\n",
    "client = AzureOpenAI(\n",
    "  azure_endpoint = os.getenv(\"AZURE_OPENAI_ENDPOINT\"), \n",
    "  api_key=os.getenv(\"AZURE_OPENAI_API_KEY\"),  \n",
    "  api_version=\"2023-05-15\"\n",
    ")"
   ]
  },
  {
   "cell_type": "code",
   "execution_count": 3,
   "id": "7f04d0f8-4566-49d4-b622-f6f21cbc0af9",
   "metadata": {},
   "outputs": [],
   "source": [
    "db_path = \"data/amazon-food-reviews-faiss\"\n",
    "input_path = \"data/fine_food_reviews_1k.csv\""
   ]
  },
  {
   "cell_type": "code",
   "execution_count": 4,
   "id": "2a435004-10b1-4c88-a18b-8eeafbb1ba37",
   "metadata": {},
   "outputs": [
    {
     "name": "stderr",
     "output_type": "stream",
     "text": [
      "/Users/I069899/anaconda3/envs/py310/lib/python3.11/site-packages/langchain_core/_api/deprecation.py:117: LangChainDeprecationWarning: The class `langchain_community.embeddings.azure_openai.AzureOpenAIEmbeddings` was deprecated in langchain-community 0.0.9 and will be removed in 0.2.0. An updated version of the class exists in the langchain-openai package and should be used instead. To use it run `pip install -U langchain-openai` and import as `from langchain_openai import AzureOpenAIEmbeddings`.\n",
      "  warn_deprecated(\n"
     ]
    }
   ],
   "source": [
    "from langchain.embeddings import AzureOpenAIEmbeddings\n",
    "from langchain.document_loaders.csv_loader import CSVLoader\n",
    "from langchain.vectorstores import FAISS\n",
    "\n",
    "\n",
    "loader = CSVLoader(file_path=input_path, encoding=\"utf-8\", csv_args={'delimiter': ','})\n",
    "data = loader.load()\n",
    "\n",
    "db = FAISS.from_documents(data, AzureOpenAIEmbeddings())"
   ]
  },
  {
   "cell_type": "code",
   "execution_count": 5,
   "id": "cfabfe5b-e6b9-4688-9933-a9b615519bc1",
   "metadata": {},
   "outputs": [],
   "source": [
    "db.save_local(db_path)"
   ]
  },
  {
   "cell_type": "code",
   "execution_count": 6,
   "id": "2a3ad091-b985-4c79-8f10-3e5462e22445",
   "metadata": {},
   "outputs": [],
   "source": [
    "new_db = FAISS.load_local(db_path, AzureOpenAIEmbeddings())"
   ]
  },
  {
   "cell_type": "code",
   "execution_count": 9,
   "id": "3e9e9caf-f86f-47e6-9d69-443e55214878",
   "metadata": {},
   "outputs": [
    {
     "name": "stdout",
     "output_type": "stream",
     "text": [
      ": 439\n",
      "Time: 1351209600\n",
      "ProductId: B0048KH218\n",
      "UserId: A2JAEJJA6TJHLY\n",
      "Score: 4\n",
      "Summary: Busted\n",
      "Text: The bag came broken. Product was leaking out of the box, due to poor packing standards.<br />Hope next items arrive unscathed. Quinoa tasted good.\n",
      "\n",
      ": 340\n",
      "Time: 1351123200\n",
      "ProductId: B002CJAT6W\n",
      "UserId: ANP2X414OHQNS\n",
      "Score: 3\n",
      "Summary: damaged can in group\n",
      "Text: One of the cans arrived damaged with a collection of bugs in it.  The product itself is fine in the other cans, and I am using the rest.  My cats really like this food and I have ordered it before with no smashed cans.  I hope the company is not foisting old product on online shoppers.\n",
      "\n",
      ": 1\n",
      "Time: 1351123200\n",
      "ProductId: B003JK537S\n",
      "UserId: A3JBPC3WFUT5ZP\n",
      "Score: 1\n",
      "Summary: Arrived in pieces\n",
      "Text: Not pleased at all. When I opened the box, most of the rings were broken in pieces. A total waste of money.\n",
      "\n",
      ": 12\n",
      "Time: 1351123200\n",
      "ProductId: B000K8T3OQ\n",
      "UserId: AK43Y4WT6FFR3\n",
      "Score: 1\n",
      "Summary: Broken in a million pieces\n",
      "Text: Chips were broken into small pieces. Problem isn't amazon's, it's Stacy's. Stacy (or amazon) needs to pack the original box of six better, the bags move around too much. There was room for at least two more bags in the box.<br />Amazon packed the Stacy's box in their box very tight and good.<br /><br />I tried to complain to Stacy, they make it very hard, no luck.<br />Chips taste great though, maybe I'll pour them in a bowl with milk for breakfast.\n",
      "\n"
     ]
    }
   ],
   "source": [
    "query = \"bad packaging\"\n",
    "answer_list = new_db.similarity_search(query)\n",
    "for ans in answer_list:\n",
    "    print(ans.page_content + \"\\n\")"
   ]
  },
  {
   "cell_type": "code",
   "execution_count": null,
   "id": "8c3d4158-8dbf-4ad5-8357-d5edf70ffa1e",
   "metadata": {},
   "outputs": [],
   "source": [
    "retriever = db.as_retriever(\n",
    "    search_type=\"similarity_score_threshold\",\n",
    "    search_kwargs={\"score_threshold\": 0.75}\n",
    ")\n",
    "docs = retriever.get_relevant_documents(\"bad packaging\")\n",
    "for doc in docs:\n",
    "    print(doc.page_content + \"\\n\")"
   ]
  },
  {
   "cell_type": "code",
   "execution_count": null,
   "id": "562d4cd8-8896-4feb-8301-43bd365f480d",
   "metadata": {},
   "outputs": [],
   "source": [
    "from langchain.chains import RetrievalQA\n",
    "from langchain.chat_models import AzureChatOpenAI\n",
    "\n",
    "llm = AzureChatOpenAI(model_name=\"gpt-35-turbo\", temperature=0.3)\n",
    "qa_chain = RetrievalQA.from_chain_type(llm,\n",
    "             retriever=new_db.as_retriever(search_type=\"similarity_score_threshold\",\n",
    "               search_kwargs={\"score_threshold\": 0.75}))\n",
    "qa_chain.combine_documents_chain.verbose = True\n",
    "qa_chain.return_source_documents = True"
   ]
  },
  {
   "cell_type": "code",
   "execution_count": null,
   "id": "36c121d6-02f5-4fa3-9c12-d8144ba63ac5",
   "metadata": {},
   "outputs": [],
   "source": [
    "qa_chain({\"query\": \"bad packaging\"})"
   ]
  },
  {
   "cell_type": "code",
   "execution_count": null,
   "id": "1edec2de-c397-4175-a31b-da797db353ae",
   "metadata": {},
   "outputs": [],
   "source": []
  }
 ],
 "metadata": {
  "kernelspec": {
   "display_name": "Python 3 (ipykernel)",
   "language": "python",
   "name": "python3"
  },
  "language_info": {
   "codemirror_mode": {
    "name": "ipython",
    "version": 3
   },
   "file_extension": ".py",
   "mimetype": "text/x-python",
   "name": "python",
   "nbconvert_exporter": "python",
   "pygments_lexer": "ipython3",
   "version": "3.11.8"
  }
 },
 "nbformat": 4,
 "nbformat_minor": 5
}
